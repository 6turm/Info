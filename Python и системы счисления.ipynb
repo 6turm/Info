{
 "cells": [
  {
   "cell_type": "markdown",
   "id": "40a73ff9",
   "metadata": {},
   "source": [
    "# Преобразования чисел в различных СС с помощью Python"
   ]
  },
  {
   "cell_type": "markdown",
   "id": "b3c8feb0",
   "metadata": {},
   "source": [
    "Python для ЕГЭ по информатике.\n",
    "Канал в телеграмм: https://t.me/informatics_100"
   ]
  },
  {
   "cell_type": "markdown",
   "id": "de992565",
   "metadata": {},
   "source": [
    "## Int\n",
    "Целочисленный тип"
   ]
  },
  {
   "cell_type": "code",
   "execution_count": 1,
   "id": "cb2873a1",
   "metadata": {},
   "outputs": [
    {
     "name": "stdout",
     "output_type": "stream",
     "text": [
      "-1234\n",
      "<class 'int'>\n"
     ]
    }
   ],
   "source": [
    "s = '-1234'\n",
    "n = int(s)\n",
    "print(n)\n",
    "print(type(n))"
   ]
  },
  {
   "cell_type": "code",
   "execution_count": 2,
   "id": "36161a64",
   "metadata": {},
   "outputs": [
    {
     "name": "stdout",
     "output_type": "stream",
     "text": [
      "99\n"
     ]
    }
   ],
   "source": [
    "n = 99.9\n",
    "n = int(n)  # десятичные знаки просто отбрасываются (не округляются)\n",
    "print(n)"
   ]
  },
  {
   "cell_type": "markdown",
   "id": "0525abe6",
   "metadata": {},
   "source": [
    "## Float\n",
    "Вещественные числа или числа с плавающей точкой.  \n",
    "Просто вспомним про них: переводить вещественные числа встроенными методами языка не получится.  "
   ]
  },
  {
   "cell_type": "code",
   "execution_count": 3,
   "id": "547dd2ce",
   "metadata": {},
   "outputs": [
    {
     "name": "stdout",
     "output_type": "stream",
     "text": [
      "123.4\n"
     ]
    }
   ],
   "source": [
    "s = '123.4'\n",
    "n = float(s)\n",
    "print(n)"
   ]
  },
  {
   "cell_type": "code",
   "execution_count": 4,
   "id": "09cecff0",
   "metadata": {
    "collapsed": true
   },
   "outputs": [
    {
     "ename": "ValueError",
     "evalue": "could not convert string to float: '123,4'",
     "output_type": "error",
     "traceback": [
      "\u001b[1;31m---------------------------------------------------------------------------\u001b[0m",
      "\u001b[1;31mValueError\u001b[0m                                Traceback (most recent call last)",
      "\u001b[1;32m~\\AppData\\Local\\Temp\\ipykernel_17476\\1258201122.py\u001b[0m in \u001b[0;36m<module>\u001b[1;34m\u001b[0m\n\u001b[0;32m      1\u001b[0m \u001b[0ms\u001b[0m \u001b[1;33m=\u001b[0m \u001b[1;34m'123,4'\u001b[0m\u001b[1;33m\u001b[0m\u001b[1;33m\u001b[0m\u001b[0m\n\u001b[1;32m----> 2\u001b[1;33m \u001b[0mn\u001b[0m \u001b[1;33m=\u001b[0m \u001b[0mfloat\u001b[0m\u001b[1;33m(\u001b[0m\u001b[0ms\u001b[0m\u001b[1;33m)\u001b[0m  \u001b[1;31m# ValueError: could not convert string to float: '123,4'\u001b[0m\u001b[1;33m\u001b[0m\u001b[1;33m\u001b[0m\u001b[0m\n\u001b[0m",
      "\u001b[1;31mValueError\u001b[0m: could not convert string to float: '123,4'"
     ]
    }
   ],
   "source": [
    "s = '123,4'\n",
    "n = float(s)  # ValueError: could not convert string to float: '123,4'"
   ]
  },
  {
   "cell_type": "markdown",
   "id": "9fe925b9",
   "metadata": {},
   "source": [
    "## Преобразование целого числа между СС с различными основаниями"
   ]
  },
  {
   "cell_type": "markdown",
   "id": "68fc388c",
   "metadata": {},
   "source": [
    "### Перевод десятичного числа в двоичную СС: bin(n)"
   ]
  },
  {
   "cell_type": "code",
   "execution_count": 5,
   "id": "50409119",
   "metadata": {
    "scrolled": true
   },
   "outputs": [
    {
     "name": "stdout",
     "output_type": "stream",
     "text": [
      "bin(n) = 0b1011\n"
     ]
    }
   ],
   "source": [
    "n = 11\n",
    "m = bin(n)\n",
    "print('bin(n) =', m)"
   ]
  },
  {
   "cell_type": "markdown",
   "id": "e64d1cd1",
   "metadata": {},
   "source": [
    "Обратим внимание на приставку 0b.\n",
    "\n",
    "Проверим тип данных:"
   ]
  },
  {
   "cell_type": "code",
   "execution_count": 6,
   "id": "c6f1dc76",
   "metadata": {},
   "outputs": [
    {
     "name": "stdout",
     "output_type": "stream",
     "text": [
      "<class 'int'>\n"
     ]
    }
   ],
   "source": [
    "print(type(n))"
   ]
  },
  {
   "cell_type": "markdown",
   "id": "703b3d8f",
   "metadata": {},
   "source": [
    "При переводе в двоичную систему получаем Строку.  \n",
    "В начале имеем служебную приставку.  \n",
    "Ее можно отбросить:"
   ]
  },
  {
   "cell_type": "code",
   "execution_count": 7,
   "id": "332df246",
   "metadata": {},
   "outputs": [
    {
     "name": "stdout",
     "output_type": "stream",
     "text": [
      "0b1111011\n",
      "1111011\n",
      "1111011\n",
      "<class 'str'>\n"
     ]
    }
   ],
   "source": [
    "n = 123\n",
    "m = bin(n)\n",
    "print(m)\n",
    "m = m[2:]\n",
    "print(m)\n",
    "\n",
    "# Объединим команды в одну строку:\n",
    "m = bin(n)[2:]\n",
    "print(m)\n",
    "print(type(m))  # Это по прежнему строка"
   ]
  },
  {
   "cell_type": "markdown",
   "id": "ef9d7fd7",
   "metadata": {},
   "source": [
    "### Перевод числа из двоичной СС в десятичную: int(m, 2)"
   ]
  },
  {
   "cell_type": "code",
   "execution_count": 8,
   "id": "b53b3f76",
   "metadata": {
    "collapsed": true
   },
   "outputs": [
    {
     "ename": "ValueError",
     "evalue": "invalid literal for int() with base 10: '0b1011'",
     "output_type": "error",
     "traceback": [
      "\u001b[1;31m---------------------------------------------------------------------------\u001b[0m",
      "\u001b[1;31mValueError\u001b[0m                                Traceback (most recent call last)",
      "\u001b[1;32m~\\AppData\\Local\\Temp\\ipykernel_17476\\2144870108.py\u001b[0m in \u001b[0;36m<module>\u001b[1;34m\u001b[0m\n\u001b[0;32m      1\u001b[0m \u001b[0mm\u001b[0m \u001b[1;33m=\u001b[0m \u001b[0mbin\u001b[0m\u001b[1;33m(\u001b[0m\u001b[1;36m11\u001b[0m\u001b[1;33m)\u001b[0m  \u001b[1;31m# Получили двоичное число. Попробуем преобразовать его обратно:\u001b[0m\u001b[1;33m\u001b[0m\u001b[1;33m\u001b[0m\u001b[0m\n\u001b[1;32m----> 2\u001b[1;33m \u001b[0mn\u001b[0m \u001b[1;33m=\u001b[0m \u001b[0mint\u001b[0m\u001b[1;33m(\u001b[0m\u001b[0mm\u001b[0m\u001b[1;33m)\u001b[0m  \u001b[1;31m# error\u001b[0m\u001b[1;33m\u001b[0m\u001b[1;33m\u001b[0m\u001b[0m\n\u001b[0m\u001b[0;32m      3\u001b[0m \u001b[1;31m# ValueError: invalid literal for int() with base 10: '0b1011'\u001b[0m\u001b[1;33m\u001b[0m\u001b[1;33m\u001b[0m\u001b[0m\n",
      "\u001b[1;31mValueError\u001b[0m: invalid literal for int() with base 10: '0b1011'"
     ]
    }
   ],
   "source": [
    "m = bin(11)  # Получили двоичное число. Попробуем преобразовать его обратно:\n",
    "n = int(m)  # error\n",
    "# ValueError: invalid literal for int() with base 10: '0b1011'"
   ]
  },
  {
   "cell_type": "markdown",
   "id": "6a904f66",
   "metadata": {},
   "source": [
    "Почему ошибка? \n",
    "m = '0b1011'  \n",
    "Функция пока не понимает, что делать с таким числом.\n",
    "\n",
    "Мы привыкли, что фукнция int() принимает только один аргумент.  \n",
    "Но на самом деле она умеет принимать два оргумента:  \n",
    "int(x, [base=10]):"
   ]
  },
  {
   "cell_type": "code",
   "execution_count": 9,
   "id": "1a5bd62d",
   "metadata": {},
   "outputs": [
    {
     "name": "stdout",
     "output_type": "stream",
     "text": [
      "123\n"
     ]
    }
   ],
   "source": [
    "n = int('123', 10)\n",
    "print(n)"
   ]
  },
  {
   "cell_type": "markdown",
   "id": "e370ebc9",
   "metadata": {},
   "source": [
    "Первый аргумент принимает число в строковом формате: '1234'\n",
    "Второй аргумент принимает основание СС исходного числа (если не указан, то 10 используется по умолчанию)."
   ]
  },
  {
   "cell_type": "code",
   "execution_count": 10,
   "id": "a40c36e3",
   "metadata": {},
   "outputs": [
    {
     "name": "stdout",
     "output_type": "stream",
     "text": [
      "1000\n"
     ]
    }
   ],
   "source": [
    "n = int('1000')  # Основание не указано, значит передано десятичное число\n",
    "print(n)"
   ]
  },
  {
   "cell_type": "code",
   "execution_count": 11,
   "id": "27334e1b",
   "metadata": {},
   "outputs": [
    {
     "name": "stdout",
     "output_type": "stream",
     "text": [
      "8\n",
      "8\n",
      "8\n"
     ]
    }
   ],
   "source": [
    "n = int('1000', 2)  # Указали основание 2. Число 1011 будет прочитано как двоичное\n",
    "print(n)\n",
    "\n",
    "n = int('0b1000', 2)  # Можем передавать строки с приставкой\n",
    "print(n)\n",
    "\n",
    "m = '0b1000'\n",
    "n = int(m, 2)  # Подаем переменную, содержащую строку (можно с приставкой '('0b' или без)\n",
    "print(n)"
   ]
  },
  {
   "cell_type": "markdown",
   "id": "83a94060",
   "metadata": {},
   "source": [
    "#### А так нельзя:"
   ]
  },
  {
   "cell_type": "code",
   "execution_count": 12,
   "id": "0d8611c4",
   "metadata": {
    "collapsed": true
   },
   "outputs": [
    {
     "ename": "TypeError",
     "evalue": "int() can't convert non-string with explicit base",
     "output_type": "error",
     "traceback": [
      "\u001b[1;31m---------------------------------------------------------------------------\u001b[0m",
      "\u001b[1;31mTypeError\u001b[0m                                 Traceback (most recent call last)",
      "\u001b[1;32m~\\AppData\\Local\\Temp\\ipykernel_17476\\3148333487.py\u001b[0m in \u001b[0;36m<module>\u001b[1;34m\u001b[0m\n\u001b[1;32m----> 1\u001b[1;33m \u001b[0mn\u001b[0m \u001b[1;33m=\u001b[0m \u001b[0mint\u001b[0m\u001b[1;33m(\u001b[0m\u001b[1;36m1011\u001b[0m\u001b[1;33m,\u001b[0m \u001b[1;36m2\u001b[0m\u001b[1;33m)\u001b[0m  \u001b[1;31m# TypeError: int() can't convert non-string with explicit base\u001b[0m\u001b[1;33m\u001b[0m\u001b[1;33m\u001b[0m\u001b[0m\n\u001b[0m",
      "\u001b[1;31mTypeError\u001b[0m: int() can't convert non-string with explicit base"
     ]
    }
   ],
   "source": [
    "n = int(1011, 2)  # TypeError: int() can't convert non-string with explicit base"
   ]
  },
  {
   "cell_type": "markdown",
   "id": "d2a92bb8",
   "metadata": {},
   "source": [
    "**int( )** с указанием основания всегда принимает первым аргуметом СТРОКУ:  \n",
    "'1234'  \n",
    "'1001'  \n",
    "'0'  \n",
    "'0b1011'"
   ]
  },
  {
   "cell_type": "markdown",
   "id": "2757d02a",
   "metadata": {},
   "source": [
    "### Восмиричная, шестнадцатиричная системы. Туда и обратно:"
   ]
  },
  {
   "cell_type": "markdown",
   "id": "ce5062dd",
   "metadata": {},
   "source": [
    "#### Туда:"
   ]
  },
  {
   "cell_type": "markdown",
   "id": "62abadf7",
   "metadata": {},
   "source": [
    "Встроенные функции:  \n",
    "oct(n) - перевод n d восьмиричную СС  \n",
    "hex(n) - перевод n в шеснадцатиричную СС"
   ]
  },
  {
   "cell_type": "code",
   "execution_count": 13,
   "id": "d913215d",
   "metadata": {},
   "outputs": [
    {
     "name": "stdout",
     "output_type": "stream",
     "text": [
      "0o35\n",
      "0x1d\n",
      "<class 'str'> <class 'str'>\n"
     ]
    }
   ],
   "source": [
    "a = 29\n",
    "\n",
    "n = oct(a)  # Перевод в 8-ричную СС\n",
    "print(n)\n",
    "\n",
    "m = hex(a)  # Перевод в 16-ричную СС\n",
    "print(m)\n",
    "print(type(n), type(m))"
   ]
  },
  {
   "cell_type": "markdown",
   "id": "deeb0e4d",
   "metadata": {},
   "source": [
    "Обратим внимание на приставки: 0o и 0x."
   ]
  },
  {
   "cell_type": "markdown",
   "id": "6ccab1ff",
   "metadata": {},
   "source": [
    "#### Обратно:\n",
    "Поведение аналогично двоичной СС:"
   ]
  },
  {
   "cell_type": "code",
   "execution_count": 14,
   "id": "f628805d",
   "metadata": {},
   "outputs": [
    {
     "name": "stdout",
     "output_type": "stream",
     "text": [
      "29\n",
      "29\n",
      "29\n",
      "29\n"
     ]
    }
   ],
   "source": [
    "a = int('0o35', 8)  # Указываем основание исходной СС\n",
    "print(a)\n",
    "\n",
    "a = int('35', 8)  # Можно без приставки\n",
    "print(a)\n",
    "\n",
    "b = int('0x1d', 16)  # Указываем основание исходной СС\n",
    "print(b)\n",
    "\n",
    "b = int('1d', 16)  # Можно без приставки\n",
    "print(b)"
   ]
  },
  {
   "cell_type": "markdown",
   "id": "e75f06d8",
   "metadata": {},
   "source": [
    "Передавать в функцию int() по прежнему можно только Строки:  \n",
    "'FFF'  \n",
    "'111'  \n",
    "'0x111'  "
   ]
  },
  {
   "cell_type": "markdown",
   "id": "c41d209e",
   "metadata": {},
   "source": [
    "## Перевод из систем счисления с произвольным основанием в десятичную:"
   ]
  },
  {
   "cell_type": "markdown",
   "id": "d17a2ad5",
   "metadata": {},
   "source": [
    "Всмомним алфавит для 16-ричной системы:  \n",
    "0, 1, 2, 3, 4, 5, 6, 7, 8, 9, A, B, C, D, E, F - итого 16 знаков  \n",
    "Для систем с большим основанием ряд можно продолжать: G, H, I, J ..."
   ]
  },
  {
   "cell_type": "markdown",
   "id": "76140bd0",
   "metadata": {},
   "source": [
    "#### Посмотрим на примеры:"
   ]
  },
  {
   "cell_type": "code",
   "execution_count": 15,
   "id": "3e8c4291",
   "metadata": {},
   "outputs": [
    {
     "name": "stdout",
     "output_type": "stream",
     "text": [
      "288\n"
     ]
    }
   ],
   "source": [
    "m = int('GG', 17)\n",
    "print(m)"
   ]
  },
  {
   "cell_type": "code",
   "execution_count": 16,
   "id": "b9031cf2",
   "metadata": {},
   "outputs": [
    {
     "name": "stdout",
     "output_type": "stream",
     "text": [
      "336\n"
     ]
    }
   ],
   "source": [
    "m = int('GG', 20)  # Другое основание - другой результат!\n",
    "print(m)"
   ]
  },
  {
   "cell_type": "code",
   "execution_count": 17,
   "id": "3421e79f",
   "metadata": {},
   "outputs": [
    {
     "name": "stdout",
     "output_type": "stream",
     "text": [
      "27\n"
     ]
    }
   ],
   "source": [
    "m = int('123', 4)\n",
    "print(m)"
   ]
  },
  {
   "cell_type": "code",
   "execution_count": 18,
   "id": "6f633fff",
   "metadata": {},
   "outputs": [
    {
     "name": "stdout",
     "output_type": "stream",
     "text": [
      "3203\n"
     ]
    }
   ],
   "source": [
    "m = int('1A2B', 12)  # Алфавит 12-ричной системы: 0123456789AB - всего 12 символов\n",
    "print(m)"
   ]
  },
  {
   "cell_type": "markdown",
   "id": "3f6ad69c",
   "metadata": {},
   "source": [
    "#### А вот ошибки:\n",
    "Исходное чило содержит символы, которых нет в алфавите"
   ]
  },
  {
   "cell_type": "code",
   "execution_count": 19,
   "id": "23df606f",
   "metadata": {
    "collapsed": true
   },
   "outputs": [
    {
     "ename": "ValueError",
     "evalue": "invalid literal for int() with base 2: '123'",
     "output_type": "error",
     "traceback": [
      "\u001b[1;31m---------------------------------------------------------------------------\u001b[0m",
      "\u001b[1;31mValueError\u001b[0m                                Traceback (most recent call last)",
      "\u001b[1;32m~\\AppData\\Local\\Temp\\ipykernel_17476\\691541201.py\u001b[0m in \u001b[0;36m<module>\u001b[1;34m\u001b[0m\n\u001b[1;32m----> 1\u001b[1;33m \u001b[0mm\u001b[0m \u001b[1;33m=\u001b[0m \u001b[0mint\u001b[0m\u001b[1;33m(\u001b[0m\u001b[1;34m'123'\u001b[0m\u001b[1;33m,\u001b[0m \u001b[1;36m2\u001b[0m\u001b[1;33m)\u001b[0m  \u001b[1;31m# Алфавит для двоичной сестемы: 0, 1\u001b[0m\u001b[1;33m\u001b[0m\u001b[1;33m\u001b[0m\u001b[0m\n\u001b[0m\u001b[0;32m      2\u001b[0m \u001b[0mm\u001b[0m \u001b[1;33m=\u001b[0m \u001b[0mint\u001b[0m\u001b[1;33m(\u001b[0m\u001b[1;34m'1A2C'\u001b[0m\u001b[1;33m,\u001b[0m \u001b[1;36m12\u001b[0m\u001b[1;33m)\u001b[0m  \u001b[1;31m# Буква C выходит за пределы алфавита 12-ричной системы\u001b[0m\u001b[1;33m\u001b[0m\u001b[1;33m\u001b[0m\u001b[0m\n\u001b[0;32m      3\u001b[0m \u001b[0mm\u001b[0m \u001b[1;33m=\u001b[0m \u001b[0mint\u001b[0m\u001b[1;33m(\u001b[0m\u001b[1;34m'123'\u001b[0m\u001b[1;33m,\u001b[0m \u001b[1;36m3\u001b[0m\u001b[1;33m)\u001b[0m  \u001b[1;31m# Алфавит для троичной СС: 0, 1, 2\u001b[0m\u001b[1;33m\u001b[0m\u001b[1;33m\u001b[0m\u001b[0m\n",
      "\u001b[1;31mValueError\u001b[0m: invalid literal for int() with base 2: '123'"
     ]
    }
   ],
   "source": [
    "m = int('123', 2)  # Алфавит для двоичной сестемы: 0, 1\n",
    "m = int('1A2C', 12)  # Буква C выходит за пределы алфавита 12-ричной системы\n",
    "m = int('123', 3)  # Алфавит для троичной СС: 0, 1, 2"
   ]
  },
  {
   "cell_type": "markdown",
   "id": "32dfe6b7",
   "metadata": {},
   "source": [
    "## Краткий итог:"
   ]
  },
  {
   "cell_type": "markdown",
   "id": "289abbb7",
   "metadata": {},
   "source": [
    "#### Перевод в СС с основанием 2, 8 и 16"
   ]
  },
  {
   "cell_type": "code",
   "execution_count": 20,
   "id": "a9f5dc32",
   "metadata": {},
   "outputs": [
    {
     "name": "stdout",
     "output_type": "stream",
     "text": [
      "0b1111011 0o173 0x7b\n",
      "1111011 173 7b\n",
      "<class 'str'> <class 'str'> <class 'str'>\n"
     ]
    }
   ],
   "source": [
    "a = bin(123)  # В двоичную\n",
    "b = oct(123)  # В восьмиричную\n",
    "c = hex(123)  # В шестнадцатиричную\n",
    "print(a, b, c)\n",
    "\n",
    "# Отбросим приставку:\n",
    "print(a[2:], b[2:], c[2:])\n",
    "\n",
    "# Получаем строковый тип:\n",
    "print(type(a), type(b), type(c))"
   ]
  },
  {
   "cell_type": "markdown",
   "id": "b3e6be98",
   "metadata": {},
   "source": [
    "Ошибки:"
   ]
  },
  {
   "cell_type": "code",
   "execution_count": 21,
   "id": "e7c57a13",
   "metadata": {
    "collapsed": true
   },
   "outputs": [
    {
     "ename": "TypeError",
     "evalue": "'str' object cannot be interpreted as an integer",
     "output_type": "error",
     "traceback": [
      "\u001b[1;31m---------------------------------------------------------------------------\u001b[0m",
      "\u001b[1;31mTypeError\u001b[0m                                 Traceback (most recent call last)",
      "\u001b[1;32m~\\AppData\\Local\\Temp\\ipykernel_17476\\167456905.py\u001b[0m in \u001b[0;36m<module>\u001b[1;34m\u001b[0m\n\u001b[1;32m----> 1\u001b[1;33m \u001b[0ma\u001b[0m \u001b[1;33m=\u001b[0m \u001b[0mbin\u001b[0m\u001b[1;33m(\u001b[0m\u001b[1;34m'123'\u001b[0m\u001b[1;33m)\u001b[0m  \u001b[1;31m# TypeError: 'str' object cannot be interpreted as an integer\u001b[0m\u001b[1;33m\u001b[0m\u001b[1;33m\u001b[0m\u001b[0m\n\u001b[0m",
      "\u001b[1;31mTypeError\u001b[0m: 'str' object cannot be interpreted as an integer"
     ]
    }
   ],
   "source": [
    "a = bin('123')  # TypeError: 'str' object cannot be interpreted as an integer"
   ]
  },
  {
   "cell_type": "markdown",
   "id": "09bfce06",
   "metadata": {},
   "source": [
    "#### Перевод из СС с произвольным основанием"
   ]
  },
  {
   "cell_type": "markdown",
   "id": "42fa8aec",
   "metadata": {},
   "source": [
    "Всегда передаем Строку: '1234'"
   ]
  },
  {
   "cell_type": "code",
   "execution_count": 22,
   "id": "bee9054c",
   "metadata": {},
   "outputs": [
    {
     "name": "stdout",
     "output_type": "stream",
     "text": [
      "13 6703 237\n",
      "13 6703\n"
     ]
    }
   ],
   "source": [
    "a = int('1101', 2)\n",
    "b = int('1A2F', 16)\n",
    "c = int('456', 7)\n",
    "print(a, b, c)\n",
    "\n",
    "# Можно оставлять приставку для СС с основаниями 2, 8, 16:\n",
    "a = int('0b1101', 2)\n",
    "b = int('0x1A2F', 16)\n",
    "\n",
    "print(a, b)"
   ]
  },
  {
   "cell_type": "markdown",
   "id": "792b44cd",
   "metadata": {},
   "source": [
    "Ошибки:"
   ]
  },
  {
   "cell_type": "code",
   "execution_count": 23,
   "id": "2ca47312",
   "metadata": {
    "collapsed": true
   },
   "outputs": [
    {
     "ename": "TypeError",
     "evalue": "int() can't convert non-string with explicit base",
     "output_type": "error",
     "traceback": [
      "\u001b[1;31m---------------------------------------------------------------------------\u001b[0m",
      "\u001b[1;31mTypeError\u001b[0m                                 Traceback (most recent call last)",
      "\u001b[1;32m~\\AppData\\Local\\Temp\\ipykernel_17476\\2577680112.py\u001b[0m in \u001b[0;36m<module>\u001b[1;34m\u001b[0m\n\u001b[1;32m----> 1\u001b[1;33m \u001b[0ma\u001b[0m \u001b[1;33m=\u001b[0m \u001b[0mint\u001b[0m\u001b[1;33m(\u001b[0m\u001b[1;36m1101\u001b[0m\u001b[1;33m,\u001b[0m \u001b[1;36m2\u001b[0m\u001b[1;33m)\u001b[0m  \u001b[1;31m# Передавать в int() можно только Cтроки!\u001b[0m\u001b[1;33m\u001b[0m\u001b[1;33m\u001b[0m\u001b[0m\n\u001b[0m\u001b[0;32m      2\u001b[0m \u001b[0mb\u001b[0m \u001b[1;33m=\u001b[0m \u001b[0mint\u001b[0m\u001b[1;33m(\u001b[0m\u001b[1;34m'123'\u001b[0m\u001b[1;33m,\u001b[0m \u001b[1;36m3\u001b[0m\u001b[1;33m)\u001b[0m  \u001b[1;31m# Алфавит для троичной СС: 0, 1, 2\u001b[0m\u001b[1;33m\u001b[0m\u001b[1;33m\u001b[0m\u001b[0m\n",
      "\u001b[1;31mTypeError\u001b[0m: int() can't convert non-string with explicit base"
     ]
    }
   ],
   "source": [
    "a = int(1101, 2)  # Передавать в int() можно только Cтроки!\n",
    "b = int('123', 3)  # Алфавит для троичной СС: 0, 1, 2"
   ]
  },
  {
   "cell_type": "markdown",
   "id": "c5f58e94",
   "metadata": {},
   "source": [
    "## Решим пару задач:"
   ]
  },
  {
   "cell_type": "markdown",
   "id": "62695cf1",
   "metadata": {},
   "source": [
    "#### Задача 1."
   ]
  },
  {
   "cell_type": "markdown",
   "id": "2aaef6ac",
   "metadata": {},
   "source": [
    "Найти наибольшее значение символа X, для которого шестнадцатиричное число 9X42 кратно 7."
   ]
  },
  {
   "cell_type": "code",
   "execution_count": 24,
   "id": "6022cd53",
   "metadata": {
    "scrolled": true
   },
   "outputs": [
    {
     "name": "stdout",
     "output_type": "stream",
     "text": [
      "x = B\n"
     ]
    }
   ],
   "source": [
    "alf = '0123456789ABCDEF'  # Создадим алфавит для 16-ричной системы\n",
    "alf = alf[::-1]  # Развернем его, чтобы перебирать символы от наибольшего\n",
    "\n",
    "# Переберем алфавит в цикле\n",
    "for x in alf:  \n",
    "    n = '9' + x + '42'  # Получаем шестнадцатиричную строковую запись для текущего симовла x\n",
    "    n = int(n, 16)  # Переводим шестнадцатиричную запись в десятичное число\n",
    "    if n % 7 == 0:  # Проверям делимость\n",
    "        print('x =', x)\n",
    "        break"
   ]
  },
  {
   "cell_type": "markdown",
   "id": "3fccbc86",
   "metadata": {},
   "source": [
    "#### Задача 2."
   ]
  },
  {
   "cell_type": "markdown",
   "id": "e665d458",
   "metadata": {},
   "source": [
    "Дано число 2023. \n",
    "Над его двоичной записью выполнели преобразование: в конец записи дописали столько единиц, сколько их есть в изначальной записи.\n",
    "Найти получившееся число. Ответ дать в десятичной СС."
   ]
  },
  {
   "cell_type": "code",
   "execution_count": 25,
   "id": "60bd4570",
   "metadata": {
    "scrolled": true
   },
   "outputs": [
    {
     "name": "stdout",
     "output_type": "stream",
     "text": [
      "1036287\n"
     ]
    }
   ],
   "source": [
    "a = bin(2023)[2:]  # Переведем число в двоичную систему, отбросим приставку\n",
    "n = a.count('1')  # В полученной строковой записи выполним подчсчет количества символов '1' \n",
    "a = a + '1' * n  # Преобразуем строковую запись, добавив в конец n единиц\n",
    "a = int(a, 2)  # Преобразуем полученное число в int\n",
    "print(a)"
   ]
  },
  {
   "cell_type": "markdown",
   "id": "247a983e",
   "metadata": {},
   "source": [
    " "
   ]
  },
  {
   "cell_type": "markdown",
   "id": "9cff271c",
   "metadata": {},
   "source": [
    "\n",
    "Python для ЕГЭ по информатике. Канал в телеграмм: https://t.me/informatics_100"
   ]
  }
 ],
 "metadata": {
  "celltoolbar": "Необработанный формат ячейки",
  "kernelspec": {
   "display_name": "Python 3 (ipykernel)",
   "language": "python",
   "name": "python3"
  },
  "language_info": {
   "codemirror_mode": {
    "name": "ipython",
    "version": 3
   },
   "file_extension": ".py",
   "mimetype": "text/x-python",
   "name": "python",
   "nbconvert_exporter": "python",
   "pygments_lexer": "ipython3",
   "version": "3.9.13"
  }
 },
 "nbformat": 4,
 "nbformat_minor": 5
}
