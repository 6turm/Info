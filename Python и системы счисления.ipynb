{
 "cells": [
  {
   "cell_type": "markdown",
   "id": "8cbb5c3f",
   "metadata": {},
   "source": [
    "# Заголовок\n",
    "## Заголовок\n",
    "    ### Заголовок"
   ]
  },
  {
   "cell_type": "code",
   "execution_count": null,
   "id": "a7b0e643",
   "metadata": {},
   "outputs": [],
   "source": []
  },
  {
   "cell_type": "code",
   "execution_count": null,
   "id": "756c121a",
   "metadata": {},
   "outputs": [],
   "source": []
  }
 ],
 "metadata": {
  "kernelspec": {
   "display_name": "Python 3 (ipykernel)",
   "language": "python",
   "name": "python3"
  },
  "language_info": {
   "codemirror_mode": {
    "name": "ipython",
    "version": 3
   },
   "file_extension": ".py",
   "mimetype": "text/x-python",
   "name": "python",
   "nbconvert_exporter": "python",
   "pygments_lexer": "ipython3",
   "version": "3.9.13"
  }
 },
 "nbformat": 4,
 "nbformat_minor": 5
}
